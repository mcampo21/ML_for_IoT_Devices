{
 "cells": [
  {
   "cell_type": "code",
   "execution_count": 1,
   "metadata": {},
   "outputs": [],
   "source": [
    "import os\n",
    "import struct\n"
   ]
  },
  {
   "cell_type": "code",
   "execution_count": 2,
   "metadata": {},
   "outputs": [],
   "source": [
    "def convert_tflite_to_hex(model_path, output_path, bytes_per_line:int = 20):\n",
    "    # opens output file\n",
    "    out = open(output_path, 'w')    \n",
    "    \n",
    "    # counter for rolling lines over\n",
    "    i = 0\n",
    "    \n",
    "    with open(model_path, 'rb') as data:\n",
    "        while True:\n",
    "            # reads the byte\n",
    "            byte = data.read(1)\n",
    "            if not byte:\n",
    "                break\n",
    "            \n",
    "            i += 1\n",
    "            \n",
    "            # converts data to int\n",
    "            value = ord(byte)\n",
    "            \n",
    "            # write data as hex with a comma at the end\n",
    "            out.write(f\"{hex(value)}, \")\n",
    "            # write a new line\n",
    "            if (i) % bytes_per_line == 0:\n",
    "                out.write(f\"\\n\")\n",
    "            \n",
    "    print(f\"there are {i} bytes in the file\")\n",
    "    "
   ]
  },
  {
   "cell_type": "code",
   "execution_count": 3,
   "metadata": {},
   "outputs": [
    {
     "name": "stdout",
     "output_type": "stream",
     "text": [
      "there are 77592 bytes in the file\n"
     ]
    }
   ],
   "source": [
    "model_title = \"model_test\"\n",
    "\n",
    "model_path  = f\"{model_title}.tflite\" # Path to TFLite model\n",
    "output_path = f\"{model_title}.txt\" # Path to output hex file\n",
    "\n",
    "if os.path.exists(output_path):\n",
    "    os.remove(output_path)\n",
    "\n",
    "convert_tflite_to_hex(model_path, output_path)\n"
   ]
  },
  {
   "cell_type": "code",
   "execution_count": null,
   "metadata": {},
   "outputs": [],
   "source": []
  },
  {
   "cell_type": "code",
   "execution_count": null,
   "metadata": {},
   "outputs": [],
   "source": []
  }
 ],
 "metadata": {
  "kernelspec": {
   "display_name": "base",
   "language": "python",
   "name": "python3"
  },
  "language_info": {
   "codemirror_mode": {
    "name": "ipython",
    "version": 3
   },
   "file_extension": ".py",
   "mimetype": "text/x-python",
   "name": "python",
   "nbconvert_exporter": "python",
   "pygments_lexer": "ipython3",
   "version": "3.10.9"
  },
  "orig_nbformat": 4
 },
 "nbformat": 4,
 "nbformat_minor": 2
}
